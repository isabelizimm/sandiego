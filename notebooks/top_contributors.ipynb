{
 "cells": [
  {
   "cell_type": "markdown",
   "id": "f74c9e45-9b57-40f9-a9f3-67c237214d2e",
   "metadata": {},
   "source": [
    "# Top contributors"
   ]
  },
  {
   "cell_type": "markdown",
   "id": "d5a60e7c-6eca-4743-a81c-5587d41ab1ed",
   "metadata": {},
   "source": [
    "There may be some value in comparing the speed and engagement in responding to and merging PRs between the top (10ish?) contributors and the median/mean contributors. This visualization is not fully fleshed out for the purpose of exploring some different ways of looking at this to determine if this is useful to look at and which fashion.\n",
    "\n",
    "_Relevant issues:_ [#61](https://github.com/sandiego-rh/sandiego/issues/61)\n",
    "\n",
    "note: https://www.zainrizvi.io/blog/jupyter-notebooks-best-practices-use-virtual-environments/ for setting up virtual environments in this RHODs JL instance. This notebook will aim to query the Augur DB to derive measurements specified in the GitHub Community Metrics working document: https://docs.google.com/document/d/1Yocr6fk0J8EsVZnJwoIl3kRQaI94tI-XHe7VSMFT0yM/edit?usp=sharing"
   ]
  },
  {
   "cell_type": "markdown",
   "id": "d8e1abd0-a14e-4052-b821-1ed8188748a7",
   "metadata": {},
   "source": [
    "**Imports and Database (Augur) connection**"
   ]
  },
  {
   "cell_type": "code",
   "execution_count": 1,
   "id": "f311a095-6b36-448c-b431-d2c755bcf497",
   "metadata": {
    "tags": [
     "hide-input"
    ]
   },
   "outputs": [],
   "source": [
    "import psycopg2\n",
    "import pandas as pd \n",
    "import sqlalchemy as salc\n",
    "import matplotlib\n",
    "import numpy as np\n",
    "import seaborn as sns\n",
    "import matplotlib.pyplot as plt\n",
    "import json\n",
    "import warnings\n",
    "import datetime\n",
    "from pandas.tseries.offsets import BusinessDay\n",
    "from matplotlib.ticker import MaxNLocator\n",
    "from dateutil.relativedelta import relativedelta\n",
    "plt.rcParams['figure.figsize'] = (17, 5)\n",
    "\n",
    "warnings.filterwarnings('ignore')\n",
    "\n",
    "with open(\"../config_temp.json\") as config_file:\n",
    "    config = json.load(config_file)\n",
    "\n",
    "database_connection_string = 'postgresql+psycopg2://{}:{}@{}:{}/{}'.format(config['user'], \n",
    "                                                                           config['password'], \n",
    "                                                                           config['host'], \n",
    "                                                                           config['port'], \n",
    "                                                                           config['database'])\n",
    "\n",
    "dbschema='augur_data'\n",
    "engine = salc.create_engine(\n",
    "    database_connection_string,\n",
    "    connect_args={'options': '-csearch_path={}'.format(dbschema)})"
   ]
  },
  {
   "cell_type": "markdown",
   "id": "ba32d471-5b2a-4149-a17c-e1c06a28cbfe",
   "metadata": {},
   "source": [
    "## Control Cell - Set Variables and Filters  "
   ]
  },
  {
   "cell_type": "markdown",
   "id": "031efca6-94a6-4b63-bdee-7f6e846b2d03",
   "metadata": {},
   "source": [
    "The cell below is for generating repo_ids from the repo names. For this to work, the repo must already be in the database. If you want to manually assign a repo_id skip the cell below and read the comments on the next cell.\n",
    "\n",
    "In other words, this cell translates a repo's name (augur or grimoirelab) into their respective repo-id."
   ]
  },
  {
   "cell_type": "code",
   "execution_count": 2,
   "id": "339644e0-a567-47e5-af85-3b4f6d6e651c",
   "metadata": {
    "tags": [
     "hide-input"
    ]
   },
   "outputs": [
    {
     "name": "stdout",
     "output_type": "stream",
     "text": [
      "[25440]\n"
     ]
    }
   ],
   "source": [
    "#add your repo name(s) here of the repo(s) you want to query if known (and in the database)\n",
    "repo_name_set = [\"augur\"]\n",
    "repo_set = []\n",
    "\n",
    "for repo_name in repo_name_set:\n",
    "    repo_query = salc.sql.text(f\"\"\"\n",
    "                 SET SCHEMA 'augur_data';\n",
    "                 SELECT \n",
    "                    b.repo_id\n",
    "                FROM\n",
    "                    repo_groups a,\n",
    "                    repo b\n",
    "                WHERE\n",
    "                    a.repo_group_id = b.repo_group_id AND\n",
    "                    b.repo_name = \\'{repo_name}\\'\n",
    "        \"\"\")\n",
    "\n",
    "    t = engine.execute(repo_query)\n",
    "    repo_id =t.mappings().all()[0].get('repo_id')\n",
    "    repo_set.append(repo_id)\n",
    "print(repo_set)"
   ]
  },
  {
   "cell_type": "markdown",
   "id": "8de2fba9-0a4a-4333-a3d1-f84612c863bf",
   "metadata": {},
   "source": [
    "## Gather data"
   ]
  },
  {
   "cell_type": "markdown",
   "id": "9bd8a003-ec8f-44b9-a535-fc9d826a07f2",
   "metadata": {},
   "source": [
    "This measurement is derived from removing all non-unique and non-first entries of the same reporter_id. We are then able to track the timestamps in order of first-time issue submissions.\n",
    "The resulting plot will show the aggregate number of issue-submitters vs. time."
   ]
  },
  {
   "cell_type": "markdown",
   "id": "4547934b-0e16-45ea-8799-628de534cd84",
   "metadata": {},
   "source": [
    "**Query for repo's issues, ascending time**"
   ]
  },
  {
   "cell_type": "code",
   "execution_count": 3,
   "id": "1dba4212-45d1-404f-9872-b890203a1691",
   "metadata": {
    "tags": []
   },
   "outputs": [],
   "source": [
    "df_issues = pd.DataFrame()\n",
    "\n",
    "for repo_id in repo_set: \n",
    "\n",
    "    pr_query = salc.sql.text(f\"\"\"\n",
    "                SELECT\n",
    "                    i.reporter_id,\n",
    "                    i.issue_id AS issue_id, \n",
    "                    i.pull_request_id,\n",
    "                    i.gh_issue_number AS issue_number,\n",
    "                    i.created_at AS created, \n",
    "                    i.closed_at AS closed,\n",
    "                    irm.issue_msg_ref_id,\n",
    "                    m.msg_timestamp AS msg_time,\n",
    "                    m.msg_text AS comment_text,\n",
    "                    m.cntrb_id AS msgr_id\n",
    "                FROM\n",
    "                    repo r,\n",
    "                    issues i,\n",
    "                    issue_message_ref irm, \n",
    "                    message m \n",
    "                WHERE\n",
    "                    m.msg_id = irm.msg_id AND\n",
    "                    irm.issue_id = i.issue_id AND\n",
    "                    r.repo_id = i.repo_id AND\n",
    "                    i.repo_id = \\'{repo_id}\\'\n",
    "                 ORDER BY\n",
    "                    i.created_at                  \n",
    "        \"\"\")\n",
    "    df_current_repo = pd.read_sql(pr_query, con=engine)\n",
    "    df_issues = pd.concat([df_issues, df_current_repo])\n",
    "\n",
    "df_issues = df_issues.reset_index()\n",
    "df_issues.drop(\"index\", axis=1, inplace=True)"
   ]
  },
  {
   "cell_type": "markdown",
   "id": "cef44206-16ff-40fe-9f7d-03c9ee8ff250",
   "metadata": {},
   "source": [
    "## What is the distribution of contributors?"
   ]
  },
  {
   "cell_type": "markdown",
   "id": "3f881fb5-b0de-4c90-9f0f-94ecd149ad9a",
   "metadata": {},
   "source": [
    "### By messages"
   ]
  },
  {
   "cell_type": "code",
   "execution_count": 4,
   "id": "4d14799f-1da9-4d07-9a7d-e5cbf00112d1",
   "metadata": {},
   "outputs": [
    {
     "data": {
      "text/html": [
       "<div>\n",
       "<style scoped>\n",
       "    .dataframe tbody tr th:only-of-type {\n",
       "        vertical-align: middle;\n",
       "    }\n",
       "\n",
       "    .dataframe tbody tr th {\n",
       "        vertical-align: top;\n",
       "    }\n",
       "\n",
       "    .dataframe thead th {\n",
       "        text-align: right;\n",
       "    }\n",
       "</style>\n",
       "<table border=\"1\" class=\"dataframe\">\n",
       "  <thead>\n",
       "    <tr style=\"text-align: right;\">\n",
       "      <th></th>\n",
       "      <th>reporter_id</th>\n",
       "      <th>issue_id</th>\n",
       "      <th>pull_request_id</th>\n",
       "      <th>issue_number</th>\n",
       "      <th>created</th>\n",
       "      <th>closed</th>\n",
       "      <th>issue_msg_ref_id</th>\n",
       "      <th>msg_time</th>\n",
       "      <th>comment_text</th>\n",
       "      <th>msgr_id</th>\n",
       "      <th>time_to_response</th>\n",
       "    </tr>\n",
       "  </thead>\n",
       "  <tbody>\n",
       "    <tr>\n",
       "      <th>0</th>\n",
       "      <td>280508</td>\n",
       "      <td>340141</td>\n",
       "      <td>NaN</td>\n",
       "      <td>2</td>\n",
       "      <td>2017-01-20 15:04:01</td>\n",
       "      <td>2017-02-17 03:05:14</td>\n",
       "      <td>1201369</td>\n",
       "      <td>2017-01-24 20:49:40</td>\n",
       "      <td>great, thanks!  How should I make the config?</td>\n",
       "      <td>277697</td>\n",
       "      <td>4 days 05:45:39</td>\n",
       "    </tr>\n",
       "    <tr>\n",
       "      <th>1</th>\n",
       "      <td>280508</td>\n",
       "      <td>340141</td>\n",
       "      <td>NaN</td>\n",
       "      <td>2</td>\n",
       "      <td>2017-01-20 15:04:01</td>\n",
       "      <td>2017-02-17 03:05:14</td>\n",
       "      <td>1201373</td>\n",
       "      <td>2017-02-02 22:37:26</td>\n",
       "      <td>@GeorgLink the commands @abuhman mentioned are...</td>\n",
       "      <td>277693</td>\n",
       "      <td>13 days 07:33:25</td>\n",
       "    </tr>\n",
       "    <tr>\n",
       "      <th>2</th>\n",
       "      <td>280508</td>\n",
       "      <td>340141</td>\n",
       "      <td>NaN</td>\n",
       "      <td>2</td>\n",
       "      <td>2017-01-20 15:04:01</td>\n",
       "      <td>2017-02-17 03:05:14</td>\n",
       "      <td>1201374</td>\n",
       "      <td>2017-02-15 16:55:41</td>\n",
       "      <td>This issue is no longer relevant since we move...</td>\n",
       "      <td>277693</td>\n",
       "      <td>26 days 01:51:40</td>\n",
       "    </tr>\n",
       "  </tbody>\n",
       "</table>\n",
       "</div>"
      ],
      "text/plain": [
       "   reporter_id  issue_id  pull_request_id  issue_number             created  \\\n",
       "0       280508    340141              NaN             2 2017-01-20 15:04:01   \n",
       "1       280508    340141              NaN             2 2017-01-20 15:04:01   \n",
       "2       280508    340141              NaN             2 2017-01-20 15:04:01   \n",
       "\n",
       "               closed  issue_msg_ref_id            msg_time  \\\n",
       "0 2017-02-17 03:05:14           1201369 2017-01-24 20:49:40   \n",
       "1 2017-02-17 03:05:14           1201373 2017-02-02 22:37:26   \n",
       "2 2017-02-17 03:05:14           1201374 2017-02-15 16:55:41   \n",
       "\n",
       "                                        comment_text  msgr_id time_to_response  \n",
       "0      great, thanks!  How should I make the config?   277697  4 days 05:45:39  \n",
       "1  @GeorgLink the commands @abuhman mentioned are...   277693 13 days 07:33:25  \n",
       "2  This issue is no longer relevant since we move...   277693 26 days 01:51:40  "
      ]
     },
     "execution_count": 4,
     "metadata": {},
     "output_type": "execute_result"
    }
   ],
   "source": [
    "df_issues['time_to_response'] = (df_issues[\"msg_time\"] - df_issues[\"created\"])\n",
    "df_issues.head(3)"
   ]
  },
  {
   "cell_type": "code",
   "execution_count": 5,
   "id": "e227c758-4bc8-4913-9925-da149d959906",
   "metadata": {},
   "outputs": [],
   "source": [
    "df_issues[\"time_to_response\"] = df_issues[\"time_to_response\"].astype('timedelta64[D]')"
   ]
  },
  {
   "cell_type": "code",
   "execution_count": 6,
   "id": "8ec5f5fd-83f7-43e5-a9eb-4311f5bf0687",
   "metadata": {},
   "outputs": [
    {
     "data": {
      "text/plain": [
       "count    3463.000000\n",
       "mean     -129.930696\n",
       "std       241.321244\n",
       "min      -835.000000\n",
       "25%      -296.000000\n",
       "50%         0.000000\n",
       "75%         8.000000\n",
       "max       616.000000\n",
       "Name: time_to_response, dtype: float64"
      ]
     },
     "execution_count": 6,
     "metadata": {},
     "output_type": "execute_result"
    }
   ],
   "source": [
    "df_issues[\"time_to_response\"].describe()"
   ]
  },
  {
   "cell_type": "markdown",
   "id": "eef671c3-fabe-4c21-b157-44a52330fdb5",
   "metadata": {},
   "source": [
    "We see here that the time to response is oftentimes negative. This is a known bug for data collection, tracked in an [issue here](https://github.com/chaoss/augur/issues/1510). For now, we will filter out and evaluate the values greater than 0. "
   ]
  },
  {
   "cell_type": "code",
   "execution_count": 7,
   "id": "1b12a0ff-600f-4fe5-857e-89a2cd3e4fdf",
   "metadata": {},
   "outputs": [],
   "source": [
    "response_df = df_issues[[\"time_to_response\", \"msgr_id\", \"pull_request_id\"]]\n",
    "response_df = response_df[response_df[\"pull_request_id\"].isna()]\n",
    "issues_response_df = response_df.groupby(\"msgr_id\").mean().sort_values(\"time_to_response\")"
   ]
  },
  {
   "cell_type": "code",
   "execution_count": 8,
   "id": "81efa783-0ce5-43da-9ed3-6f99b0298732",
   "metadata": {},
   "outputs": [
    {
     "data": {
      "image/png": "[encoded data removed]",
      "text/plain": [
       "<Figure size 1224x360 with 1 Axes>"
      ]
     },
     "metadata": {
      "needs_background": "light"
     },
     "output_type": "display_data"
    }
   ],
   "source": [
    "issues_response_df[issues_response_df['time_to_response'] > 0].plot.barh()\n",
    "\n",
    "plt.xlabel(\"mean time to respond, days\")\n",
    "plt.ylabel(\"contributor\")\n",
    "plt.yticks([])\n",
    "locs, labels = plt.xticks()\n",
    "plt.title(\"Avg days to respond to issues, per contributor\")\n",
    "plt.show()"
   ]
  },
  {
   "cell_type": "code",
   "execution_count": 9,
   "id": "38a0c60c-b891-4b2a-8835-85d5a9a429da",
   "metadata": {},
   "outputs": [],
   "source": [
    "response_df = df_issues[[\"time_to_response\", \"msgr_id\", \"pull_request_id\"]]\n",
    "response_df = response_df[response_df[\"pull_request_id\"].notnull()]\n",
    "pr_response_df = response_df.groupby(\"msgr_id\").mean().sort_values(\"time_to_response\")\n",
    "pr_response_df = pr_response_df[[\"time_to_response\"]]"
   ]
  },
  {
   "cell_type": "code",
   "execution_count": 10,
   "id": "eced7eac-9b01-4a66-8155-7f0c1ff355c6",
   "metadata": {},
   "outputs": [
    {
     "data": {
      "image/png": "[encoded data removed]",
      "text/plain": [
       "<Figure size 1224x360 with 1 Axes>"
      ]
     },
     "metadata": {
      "needs_background": "light"
     },
     "output_type": "display_data"
    }
   ],
   "source": [
    "pr_response_df[pr_response_df['time_to_response'] > 0].plot.barh()\n",
    "\n",
    "plt.xlabel(\"mean time to respond in PR, days\")\n",
    "plt.yticks([])\n",
    "plt.ylabel(\"contributor\")\n",
    "locs, labels = plt.xticks()\n",
    "plt.title(\"Avg days to respond to PR, per contributor\")\n",
    "plt.show()"
   ]
  },
  {
   "cell_type": "code",
   "execution_count": 11,
   "id": "0bd64c1f-a61b-41d8-a310-a6ef01f22c16",
   "metadata": {
    "tags": [
     "hide-input"
    ]
   },
   "outputs": [],
   "source": [
    "by_issues_opened = df_issues[[\"reporter_id\", \"issue_id\"]].groupby(\"reporter_id\").count().sort_values(\"issue_id\", ascending=False)"
   ]
  },
  {
   "cell_type": "code",
   "execution_count": 12,
   "id": "c4fcd593-883d-44d2-90bb-a8d4639eed87",
   "metadata": {},
   "outputs": [
    {
     "data": {
      "image/png": "[encoded data removed]",
      "text/plain": [
       "<Figure size 1224x360 with 1 Axes>"
      ]
     },
     "metadata": {
      "needs_background": "light"
     },
     "output_type": "display_data"
    }
   ],
   "source": [
    "by_issues_opened['issue_id'].plot.hist(bins = 100)\n",
    "\n",
    "plt.xlabel(\"# of opened issues\")\n",
    "plt.ylabel(\"# contributors\")\n",
    "locs, labels = plt.xticks()\n",
    "plt.title(\"activity in issues\")\n",
    "plt.show()"
   ]
  },
  {
   "cell_type": "code",
   "execution_count": 13,
   "id": "64a8758e-b93e-486e-8f33-78cd92d7e093",
   "metadata": {},
   "outputs": [],
   "source": [
    "by_prs_opened = df_issues[[\"reporter_id\", \"pull_request_id\"]].groupby(\"reporter_id\").count().sort_values(\"pull_request_id\", ascending=False)"
   ]
  },
  {
   "cell_type": "code",
   "execution_count": 14,
   "id": "dc00e9ac-c8b0-4712-b0d4-ff874d33aed5",
   "metadata": {},
   "outputs": [
    {
     "data": {
      "image/png": "[encoded data removed]",
      "text/plain": [
       "<Figure size 1224x360 with 1 Axes>"
      ]
     },
     "metadata": {
      "needs_background": "light"
     },
     "output_type": "display_data"
    }
   ],
   "source": [
    "by_prs_opened['pull_request_id'].plot.hist(bins = 100)\n",
    "\n",
    "plt.xlabel(\"number of opened PRs\")\n",
    "plt.ylabel(\"contributors\")\n",
    "locs, labels = plt.xticks()\n",
    "plt.title(\"activity in issues\")\n",
    "plt.show()"
   ]
  },
  {
   "cell_type": "markdown",
   "id": "50607154-449c-4f47-8b1b-5c4585f068ec",
   "metadata": {},
   "source": [
    "### By PRs"
   ]
  },
  {
   "cell_type": "code",
   "execution_count": 15,
   "id": "8c659b14-27b7-4f7a-8f14-7ba46f927884",
   "metadata": {
    "tags": []
   },
   "outputs": [],
   "source": [
    "df_byissue = pd.DataFrame()\n",
    "\n",
    "for repo_id in repo_set: \n",
    "\n",
    "    pr_query = salc.sql.text(f\"\"\"\n",
    "                SELECT\n",
    "                    i.reporter_id,\n",
    "                    i.issue_id AS issue_id, \n",
    "                    i.pull_request_id,\n",
    "                    i.gh_issue_number AS issue_number,\n",
    "                    i.created_at AS created, \n",
    "                    i.closed_at AS closed\n",
    "                FROM\n",
    "                    issues i\n",
    "                 ORDER BY\n",
    "                    i.created_at                  \n",
    "        \"\"\")\n",
    "    df_current_repo = pd.read_sql(pr_query, con=engine)\n",
    "    df_byissue = pd.concat([df_byissue, df_current_repo])\n",
    "\n",
    "df_byissue = df_byissue.reset_index()\n",
    "df_byissue.drop(\"index\", axis=1, inplace=True)"
   ]
  },
  {
   "cell_type": "code",
   "execution_count": 16,
   "id": "cef85aa1-8704-4591-b10e-114544b8b345",
   "metadata": {},
   "outputs": [],
   "source": [
    "df_byissue = df_byissue.groupby(\"reporter_id\").count().sort_values(\"pull_request_id\", ascending=False)"
   ]
  },
  {
   "cell_type": "code",
   "execution_count": 17,
   "id": "b58d643b-accc-465c-9b95-3ba42ec0870f",
   "metadata": {},
   "outputs": [],
   "source": [
    "top_10 = df_byissue.head(10)\n",
    "not_top_10 = df_byissue.tail(int(len(df_byissue)-10))"
   ]
  },
  {
   "cell_type": "code",
   "execution_count": 18,
   "id": "a221a6c2-41a0-4e03-b2b4-5cc32dcb58bf",
   "metadata": {},
   "outputs": [
    {
     "data": {
      "text/html": [
       "<div>\n",
       "<style scoped>\n",
       "    .dataframe tbody tr th:only-of-type {\n",
       "        vertical-align: middle;\n",
       "    }\n",
       "\n",
       "    .dataframe tbody tr th {\n",
       "        vertical-align: top;\n",
       "    }\n",
       "\n",
       "    .dataframe thead th {\n",
       "        text-align: right;\n",
       "    }\n",
       "</style>\n",
       "<table border=\"1\" class=\"dataframe\">\n",
       "  <thead>\n",
       "    <tr style=\"text-align: right;\">\n",
       "      <th></th>\n",
       "      <th>issue_id</th>\n",
       "      <th>pull_request_id</th>\n",
       "      <th>issue_number</th>\n",
       "      <th>created</th>\n",
       "      <th>closed</th>\n",
       "    </tr>\n",
       "    <tr>\n",
       "      <th>Key</th>\n",
       "      <th></th>\n",
       "      <th></th>\n",
       "      <th></th>\n",
       "      <th></th>\n",
       "      <th></th>\n",
       "    </tr>\n",
       "  </thead>\n",
       "  <tbody>\n",
       "    <tr>\n",
       "      <th>0</th>\n",
       "      <td>8157</td>\n",
       "      <td>5072</td>\n",
       "      <td>8157</td>\n",
       "      <td>8157</td>\n",
       "      <td>7316</td>\n",
       "    </tr>\n",
       "    <tr>\n",
       "      <th>1</th>\n",
       "      <td>4959</td>\n",
       "      <td>3886</td>\n",
       "      <td>4959</td>\n",
       "      <td>4959</td>\n",
       "      <td>4758</td>\n",
       "    </tr>\n",
       "  </tbody>\n",
       "</table>\n",
       "</div>"
      ],
      "text/plain": [
       "     issue_id  pull_request_id  issue_number  created  closed\n",
       "Key                                                          \n",
       "0        8157             5072          8157     8157    7316\n",
       "1        4959             3886          4959     4959    4758"
      ]
     },
     "execution_count": 18,
     "metadata": {},
     "output_type": "execute_result"
    }
   ],
   "source": [
    "top_10['Key'] = '1'\n",
    "not_top_10['Key'] = '0'\n",
    "\n",
    "combined_empirical = top_10.append(not_top_10, ignore_index=True)\n",
    "combined_empirical = combined_empirical.groupby('Key').sum()\n",
    "combined_empirical"
   ]
  },
  {
   "cell_type": "code",
   "execution_count": 19,
   "id": "f060795c-99bb-497f-9b2b-4c2c246237cd",
   "metadata": {},
   "outputs": [
    {
     "data": {
      "image/png": "[encoded data removed]",
      "text/plain": [
       "<Figure size 1224x360 with 1 Axes>"
      ]
     },
     "metadata": {},
     "output_type": "display_data"
    }
   ],
   "source": [
    "labels = ['all others', 'top 10 contributors']\n",
    "plt.pie(combined_empirical['pull_request_id'], labels=labels, autopct='%1.1f%%',\n",
    "        startangle=90)\n",
    "plt.show()"
   ]
  },
  {
   "cell_type": "markdown",
   "id": "81029653-0797-4375-bce9-de9225854ec1",
   "metadata": {},
   "source": [
    "This next graphic shows the top 10 most active contributors and what percentage of issues they create, as opposed to all other contributors."
   ]
  },
  {
   "cell_type": "code",
   "execution_count": 20,
   "id": "35eeb138-66ef-48d1-a0c1-71218713dfcf",
   "metadata": {},
   "outputs": [],
   "source": [
    "lowest_90percent = df_byissue.tail(int(len(df_byissue)*(.9)))\n",
    "top_10percent = df_byissue.head(int(len(df_byissue)*(.1)))"
   ]
  },
  {
   "cell_type": "code",
   "execution_count": 21,
   "id": "9704f0bf-893d-4981-aa2f-442e45b2e6e3",
   "metadata": {},
   "outputs": [
    {
     "data": {
      "text/html": [
       "<div>\n",
       "<style scoped>\n",
       "    .dataframe tbody tr th:only-of-type {\n",
       "        vertical-align: middle;\n",
       "    }\n",
       "\n",
       "    .dataframe tbody tr th {\n",
       "        vertical-align: top;\n",
       "    }\n",
       "\n",
       "    .dataframe thead th {\n",
       "        text-align: right;\n",
       "    }\n",
       "</style>\n",
       "<table border=\"1\" class=\"dataframe\">\n",
       "  <thead>\n",
       "    <tr style=\"text-align: right;\">\n",
       "      <th></th>\n",
       "      <th>issue_id</th>\n",
       "      <th>pull_request_id</th>\n",
       "      <th>issue_number</th>\n",
       "      <th>created</th>\n",
       "      <th>closed</th>\n",
       "    </tr>\n",
       "    <tr>\n",
       "      <th>Key</th>\n",
       "      <th></th>\n",
       "      <th></th>\n",
       "      <th></th>\n",
       "      <th></th>\n",
       "      <th></th>\n",
       "    </tr>\n",
       "  </thead>\n",
       "  <tbody>\n",
       "    <tr>\n",
       "      <th>0</th>\n",
       "      <td>2809</td>\n",
       "      <td>1298</td>\n",
       "      <td>2809</td>\n",
       "      <td>2809</td>\n",
       "      <td>2362</td>\n",
       "    </tr>\n",
       "    <tr>\n",
       "      <th>1</th>\n",
       "      <td>10300</td>\n",
       "      <td>7654</td>\n",
       "      <td>10300</td>\n",
       "      <td>10300</td>\n",
       "      <td>9705</td>\n",
       "    </tr>\n",
       "  </tbody>\n",
       "</table>\n",
       "</div>"
      ],
      "text/plain": [
       "     issue_id  pull_request_id  issue_number  created  closed\n",
       "Key                                                          \n",
       "0        2809             1298          2809     2809    2362\n",
       "1       10300             7654         10300    10300    9705"
      ]
     },
     "execution_count": 21,
     "metadata": {},
     "output_type": "execute_result"
    }
   ],
   "source": [
    "top_10percent['Key'] = '1'\n",
    "lowest_90percent['Key'] = '0'\n",
    "\n",
    "combined = top_10percent.append(lowest_90percent, ignore_index=True)\n",
    "combined_issue = combined.groupby('Key').sum()\n",
    "combined_issue"
   ]
  },
  {
   "cell_type": "code",
   "execution_count": 22,
   "id": "53e19e79-dd3d-4508-a893-494046667440",
   "metadata": {},
   "outputs": [
    {
     "data": {
      "image/png": "[encoded data removed]",
      "text/plain": [
       "<Figure size 1224x360 with 1 Axes>"
      ]
     },
     "metadata": {},
     "output_type": "display_data"
    }
   ],
   "source": [
    "labels = ['lower 90%', 'top 10%']\n",
    "plt.pie(combined_issue['issue_id'], labels=labels, autopct='%1.1f%%',\n",
    "        startangle=90)\n",
    "plt.show()"
   ]
  },
  {
   "cell_type": "markdown",
   "id": "e355ef16-f7aa-4eb0-818e-f437538bdbee",
   "metadata": {},
   "source": [
    "This next graphic shows the top 10% most active contributors and what percentage of issues they create, as opposed to the lower 90%."
   ]
  },
  {
   "cell_type": "markdown",
   "id": "3e610e64-6685-4902-a594-8958c0ca4dcf",
   "metadata": {},
   "source": [
    "**Drop all duplicate pr_src_id's except for their first occurrence; re-sort in ascending order.**"
   ]
  },
  {
   "cell_type": "code",
   "execution_count": 23,
   "id": "a018e05a-8b38-4849-b79a-79550912b748",
   "metadata": {},
   "outputs": [
    {
     "data": {
      "text/html": [
       "<div>\n",
       "<style scoped>\n",
       "    .dataframe tbody tr th:only-of-type {\n",
       "        vertical-align: middle;\n",
       "    }\n",
       "\n",
       "    .dataframe tbody tr th {\n",
       "        vertical-align: top;\n",
       "    }\n",
       "\n",
       "    .dataframe thead th {\n",
       "        text-align: right;\n",
       "    }\n",
       "</style>\n",
       "<table border=\"1\" class=\"dataframe\">\n",
       "  <thead>\n",
       "    <tr style=\"text-align: right;\">\n",
       "      <th></th>\n",
       "      <th>pull_request_id</th>\n",
       "    </tr>\n",
       "    <tr>\n",
       "      <th>reporter_id</th>\n",
       "      <th></th>\n",
       "    </tr>\n",
       "  </thead>\n",
       "  <tbody>\n",
       "    <tr>\n",
       "      <th>280529</th>\n",
       "      <td>1116</td>\n",
       "    </tr>\n",
       "    <tr>\n",
       "      <th>280837</th>\n",
       "      <td>497</td>\n",
       "    </tr>\n",
       "    <tr>\n",
       "      <th>280707</th>\n",
       "      <td>393</td>\n",
       "    </tr>\n",
       "    <tr>\n",
       "      <th>280515</th>\n",
       "      <td>341</td>\n",
       "    </tr>\n",
       "    <tr>\n",
       "      <th>277145</th>\n",
       "      <td>305</td>\n",
       "    </tr>\n",
       "    <tr>\n",
       "      <th>...</th>\n",
       "      <td>...</td>\n",
       "    </tr>\n",
       "    <tr>\n",
       "      <th>281351</th>\n",
       "      <td>0</td>\n",
       "    </tr>\n",
       "    <tr>\n",
       "      <th>281353</th>\n",
       "      <td>0</td>\n",
       "    </tr>\n",
       "    <tr>\n",
       "      <th>281355</th>\n",
       "      <td>0</td>\n",
       "    </tr>\n",
       "    <tr>\n",
       "      <th>281357</th>\n",
       "      <td>0</td>\n",
       "    </tr>\n",
       "    <tr>\n",
       "      <th>277849</th>\n",
       "      <td>0</td>\n",
       "    </tr>\n",
       "  </tbody>\n",
       "</table>\n",
       "<p>1586 rows × 1 columns</p>\n",
       "</div>"
      ],
      "text/plain": [
       "             pull_request_id\n",
       "reporter_id                 \n",
       "280529                  1116\n",
       "280837                   497\n",
       "280707                   393\n",
       "280515                   341\n",
       "277145                   305\n",
       "...                      ...\n",
       "281351                     0\n",
       "281353                     0\n",
       "281355                     0\n",
       "281357                     0\n",
       "277849                     0\n",
       "\n",
       "[1586 rows x 1 columns]"
      ]
     },
     "execution_count": 23,
     "metadata": {},
     "output_type": "execute_result"
    }
   ],
   "source": [
    "by_prs = df_byissue[[\"pull_request_id\"]]\n",
    "by_prs"
   ]
  },
  {
   "cell_type": "code",
   "execution_count": 24,
   "id": "98a1764b-e445-4f68-9bb4-c909516a2b0b",
   "metadata": {},
   "outputs": [
    {
     "data": {
      "image/png": "[encoded data removed]",
      "text/plain": [
       "<Figure size 1224x360 with 1 Axes>"
      ]
     },
     "metadata": {
      "needs_background": "light"
     },
     "output_type": "display_data"
    }
   ],
   "source": [
    "plt.boxplot(df_byissue['pull_request_id'], vert = False)\n",
    "\n",
    "plt.xlabel(\"# of opened prs\")\n",
    "plt.ylabel(\"# contributors\")\n",
    "locs, labels = plt.xticks()\n",
    "plt.title(\"activity in issues\")\n",
    "plt.show()"
   ]
  }
 ],
 "metadata": {
  "kernelspec": {
   "display_name": "Python 3 (ipykernel)",
   "language": "python",
   "name": "python3"
  },
  "language_info": {
   "codemirror_mode": {
    "name": "ipython",
    "version": 3
   },
   "file_extension": ".py",
   "mimetype": "text/x-python",
   "name": "python",
   "nbconvert_exporter": "python",
   "pygments_lexer": "ipython3",
   "version": "3.8.3"
  },
  "requirements": "{\"packages\":{\"psycopg2\":\"*\"},\"requires\":{\"python_version\":\"3.8\"},\"sources\":[{\"name\":\"pypi\",\"url\":\"https://pypi.org/simple\",\"verify_ssl\":true}]}"
 },
 "nbformat": 4,
 "nbformat_minor": 5
}
